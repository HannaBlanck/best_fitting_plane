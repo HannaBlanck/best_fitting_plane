{
 "cells": [
  {
   "cell_type": "code",
   "execution_count": 2,
   "metadata": {},
   "outputs": [],
   "source": [
    "import matplotlib.pyplot as plt\n",
    "from mpl_toolkits.mplot3d import Axes3D\n",
    "import numpy as np\n",
    "from math import sin, cos, sqrt, atan2, radians, degrees\n",
    "import copy, glob, os\n",
    "%matplotlib inline  "
   ]
  },
  {
   "cell_type": "code",
   "execution_count": 3,
   "metadata": {},
   "outputs": [
    {
     "name": "stdout",
     "output_type": "stream",
     "text": [
      "trend:\n",
      "[-158.08099685011965, -162.7160384619961, -162.68106976342082, -124.67144107754392, -158.51948774985394, 164.9328234971961, -162.7160384619961, -140.47040017828198, -131.15077429246523, -168.45826913264915, -159.29709144034814, -163.36350919430572, -163.32205171690134, -59.8467981445624]\n",
      "plunge:\n",
      "[-13.144355581036267, -13.208677702281273, -12.278920071641364, -23.58145337530394, -12.994218489184265, -6.662955435158157, -13.208677702281273, -18.89513754443774, -20.328187216749892, -10.97523371783674, -12.72930763131438, -12.230347135026772, -12.281754678376396, -47.92218884028755]\n"
     ]
    }
   ],
   "source": [
    "trend = []\n",
    "plunge =[]\n",
    "\n",
    "os.chdir(\"/home/blanck/schwarm/relative_relocation_slunga\")\n",
    "for file in glob.glob(\"*.list\"):\n",
    "\n",
    "\n",
    "    f=open(file,'r')\n",
    "    data=f.readlines()\n",
    "\n",
    "    lon_i=[]\n",
    "    lat_i=[]\n",
    "    zs=[]\n",
    "    for x in data:\n",
    "        lon_i.append(x.split(' ')[2])\n",
    "        lat_i.append(x.split(' ')[1])\n",
    "        zs.append(float(x.split()[3]))\n",
    "    f.close()\n",
    "\n",
    "    # approxsmate radius of earth in km\n",
    "    R = 6373.0\n",
    "\n",
    "    xs=[]\n",
    "    ys=[]\n",
    "\n",
    "    lat1 = radians(64.01)\n",
    "    lon1 = radians(-21.30)\n",
    "\n",
    "    for i in range(len(zs)):\n",
    "        #print(float(lat_i[i]))\n",
    "        lat2 = radians(float(lat_i[i]))\n",
    "        lon2 = radians(float(lon_i[i]))\n",
    "\n",
    "        #dx (d_lon; lat is fixed)\n",
    "\n",
    "        dlon = lon2 - lon1\n",
    "        dlat = 0\n",
    "\n",
    "        a = sin(dlat / 2)**2 + cos(lat1) * cos(lat2) * sin(dlon / 2)**2\n",
    "        c = 2 * atan2(sqrt(a), sqrt(1 - a))\n",
    "\n",
    "        dx = R * c\n",
    "\n",
    "        #dy (d_lat; lon is fixed)\n",
    "\n",
    "        dlon = 0\n",
    "        dlat = lat2 - lat1\n",
    "\n",
    "        a = sin(dlat / 2)**2 + cos(lat1) * cos(lat2) * sin(dlon / 2)**2\n",
    "        c = 2 * atan2(sqrt(a), sqrt(1 - a))\n",
    "\n",
    "        dy = R * c\n",
    "\n",
    "        #print(\"Result: dx=\", dx, \"; dy=\", dy)\n",
    "\n",
    "        xs.append(dx)\n",
    "        ys.append(dy)\n",
    "\n",
    "    xs_comp = copy.copy(xs)\n",
    "    ys_comp = copy.copy(ys)\n",
    "    zs_comp = copy.copy(zs)\n",
    "\n",
    "   #print \"e_max:\"\n",
    "    # do fit\n",
    "    e_max = 10\n",
    "    while e_max > 0.25 and len(xs) > 20:\n",
    "        tmp_A = []\n",
    "        tmp_b = []\n",
    "        for i in range(len(xs)):\n",
    "            tmp_A.append([xs[i], ys[i], 1])\n",
    "            tmp_b.append(zs[i])\n",
    "        b = np.matrix(tmp_b).T\n",
    "        A = np.matrix(tmp_A)\n",
    "        fit = (A.T * A).I * A.T * b\n",
    "        errors = b - A * fit\n",
    "        residual = np.linalg.norm(errors)\n",
    "        err = np.asarray(errors)\n",
    "        e = err.tolist()\n",
    "        e_max=max(abs(err))\n",
    "        for i in range(len(e)):\n",
    "            if np.abs(e[i]) == np.abs(e_max):\n",
    "                rem = i\n",
    "        del xs[rem]\n",
    "        del ys[rem]\n",
    "        del zs[rem]\n",
    "        #print(len(xs), len(ys), len(zs))\n",
    "\n",
    "    #print \"e_max:\", e_max\n",
    "    #print \"datapoints:\", len(xs)\n",
    "\n",
    "    #print \"solution:\"\n",
    "    #print \"%f x + %f y + %f = z\" % (fit[0], fit[1], fit[2])\n",
    "    #print \"normal vector:\"\n",
    "    #print \"(%f, %f, 1)\" % (-fit[0], -fit[1])\n",
    "    \n",
    "#calculate trend and plunge from normal vector in degrees\n",
    "    trend.append(degrees(atan2 (fit[0], fit[1])))\n",
    "    plunge.append(degrees(atan2 (-1, sqrt(fit[0]**2+fit[1]**2))))\n",
    "\n",
    "print \"trend:\"\n",
    "print trend\n",
    "\n",
    "print \"plunge:\"\n",
    "print plunge"
   ]
  },
  {
   "cell_type": "code",
   "execution_count": 8,
   "metadata": {},
   "outputs": [
    {
     "name": "stdout",
     "output_type": "stream",
     "text": [
      "2\n"
     ]
    }
   ],
   "source": [
    "a = [0, 1, 2]\n",
    "print a[2]\n",
    "f0 = open(\"test.txt\",\"w\")\n",
    "f0.write(\"tre\")\n",
    "#f0.write(\"1 %s\\n\" % a[2] )\n",
    "f0.close()\n",
    "\n",
    "#f1 = open(\"trend.txt\",\"w\")\n",
    "#for i in range(len(trend)):\n",
    "#    f1.write(\"1 %s\\n\" % trend[i] )\n",
    "#f1.close()\n",
    "        \n",
    "#f2 = open(\"plunge.txt\",\"w\")\n",
    "#for i in range(len(plunge)):\n",
    "#    f2.write(\"1 %s\\n\" % plunge[i] )\n",
    "#f2.close()"
   ]
  },
  {
   "cell_type": "code",
   "execution_count": 361,
   "metadata": {},
   "outputs": [
    {
     "name": "stdout",
     "output_type": "stream",
     "text": [
      "2.7.12 (default, Dec  4 2017, 14:50:18) \n",
      "[GCC 5.4.0 20160609]\n"
     ]
    }
   ],
   "source": [
    "import sys\n",
    "print sys.version"
   ]
  }
 ],
 "metadata": {
  "kernelspec": {
   "display_name": "Python 2",
   "language": "python",
   "name": "python2"
  },
  "language_info": {
   "codemirror_mode": {
    "name": "ipython",
    "version": 2
   },
   "file_extension": ".py",
   "mimetype": "text/x-python",
   "name": "python",
   "nbconvert_exporter": "python",
   "pygments_lexer": "ipython2",
   "version": "2.7.12"
  }
 },
 "nbformat": 4,
 "nbformat_minor": 2
}
